{
 "cells": [
  {
   "cell_type": "markdown",
   "metadata": {},
   "source": [
    "# 1. Importing"
   ]
  },
  {
   "cell_type": "code",
   "execution_count": 4,
   "metadata": {},
   "outputs": [],
   "source": [
    "import numpy as np\n",
    "import matplotlib\n",
    "import matplotlib.pyplot as plt\n",
    "import pandas as pd\n",
    "import seaborn as sns\n",
    "from sklearn.metrics import precision_recall_fscore_support, confusion_matrix, f1_score, precision_score, recall_score\n",
    "from sklearn import datasets, linear_model, preprocessing\n",
    "from sklearn.model_selection import train_test_split\n",
    "\n",
    "import keras\n",
    "import keras.backend as K\n",
    "from keras.models import Model, Sequential\n",
    "from keras.layers import Dense, Activation\n",
    "from keras.utils.vis_utils import plot_model\n",
    "from IPython.display import clear_output\n",
    "from keras import optimizers\n",
    "from keras.models import load_model\n",
    "from keras.callbacks import Callback\n",
    "\n",
    "%matplotlib inline\n"
   ]
  },
  {
   "cell_type": "markdown",
   "metadata": {},
   "source": [
    "# 2. Investigating the Data\n"
   ]
  },
  {
   "cell_type": "code",
   "execution_count": 5,
   "metadata": {},
   "outputs": [
    {
     "name": "stdout",
     "output_type": "stream",
     "text": [
      "          MIP        SIP      EKIP      SKIP    MDM-SR     SDM-SR    EKDM-SR  \\\n",
      "0  140.562500  55.683782 -0.234571 -0.699648  3.199833  19.110426   7.975532   \n",
      "1  102.507812  58.882430  0.465318 -0.515088  1.677258  14.860146  10.576487   \n",
      "2  103.015625  39.341649  0.323328  1.051164  3.121237  21.744669   7.735822   \n",
      "3  136.750000  57.178449 -0.068415 -0.636238  3.642977  20.959280   6.896499   \n",
      "4   88.726562  40.672225  0.600866  1.123492  1.178930  11.468720  14.269573   \n",
      "5   93.570312  46.698114  0.531905  0.416721  1.636288  14.545074  10.621748   \n",
      "\n",
      "      SKDM-SR  Target  \n",
      "0   74.242225       0  \n",
      "1  127.393580       0  \n",
      "2   63.171909       0  \n",
      "3   53.593661       0  \n",
      "4  252.567306       0  \n",
      "5  131.394004       0  \n"
     ]
    }
   ],
   "source": [
    "features = ['MIP', 'SIP','EKIP','SKIP','MDM-SR','SDM-SR','EKDM-SR','SKDM-SR','Target'] # Abbreviating features\n",
    "df =  pd.read_csv('pulsar_stars.csv',\n",
    "                names=features,na_values='?',header=None, skiprows = 1)\n",
    "print(df.head(6))"
   ]
  },
  {
   "cell_type": "code",
   "execution_count": 6,
   "metadata": {},
   "outputs": [
    {
     "name": "stdout",
     "output_type": "stream",
     "text": [
      "<class 'pandas.core.frame.DataFrame'>\n",
      "RangeIndex: 17898 entries, 0 to 17897\n",
      "Data columns (total 9 columns):\n",
      "MIP        17898 non-null float64\n",
      "SIP        17898 non-null float64\n",
      "EKIP       17898 non-null float64\n",
      "SKIP       17898 non-null float64\n",
      "MDM-SR     17898 non-null float64\n",
      "SDM-SR     17898 non-null float64\n",
      "EKDM-SR    17898 non-null float64\n",
      "SKDM-SR    17898 non-null float64\n",
      "Target     17898 non-null int64\n",
      "dtypes: float64(8), int64(1)\n",
      "memory usage: 1.2 MB\n",
      "\n",
      " Since dtypes are all floating point numbers or integers, and there are no null values in the dataset \n",
      " No need to perform cleaning\n"
     ]
    }
   ],
   "source": [
    "# Checking information about the dtypes and non-null rows in the dataset\n",
    "df.info()\n",
    "print('\\n Since dtypes are all floating point numbers or integers, and there are no null values in the dataset \\n No need to perform cleaning')"
   ]
  },
  {
   "cell_type": "code",
   "execution_count": 7,
   "metadata": {},
   "outputs": [
    {
     "data": {
      "text/html": [
       "<div>\n",
       "<style scoped>\n",
       "    .dataframe tbody tr th:only-of-type {\n",
       "        vertical-align: middle;\n",
       "    }\n",
       "\n",
       "    .dataframe tbody tr th {\n",
       "        vertical-align: top;\n",
       "    }\n",
       "\n",
       "    .dataframe thead th {\n",
       "        text-align: right;\n",
       "    }\n",
       "</style>\n",
       "<table border=\"1\" class=\"dataframe\">\n",
       "  <thead>\n",
       "    <tr style=\"text-align: right;\">\n",
       "      <th></th>\n",
       "      <th>MIP</th>\n",
       "      <th>SIP</th>\n",
       "      <th>EKIP</th>\n",
       "      <th>SKIP</th>\n",
       "      <th>MDM-SR</th>\n",
       "      <th>SDM-SR</th>\n",
       "      <th>EKDM-SR</th>\n",
       "      <th>SKDM-SR</th>\n",
       "      <th>Target</th>\n",
       "    </tr>\n",
       "  </thead>\n",
       "  <tbody>\n",
       "    <tr>\n",
       "      <th>count</th>\n",
       "      <td>17898.000000</td>\n",
       "      <td>17898.000000</td>\n",
       "      <td>17898.000000</td>\n",
       "      <td>17898.000000</td>\n",
       "      <td>17898.000000</td>\n",
       "      <td>17898.000000</td>\n",
       "      <td>17898.000000</td>\n",
       "      <td>17898.000000</td>\n",
       "      <td>17898.000000</td>\n",
       "    </tr>\n",
       "    <tr>\n",
       "      <th>mean</th>\n",
       "      <td>111.079968</td>\n",
       "      <td>46.549532</td>\n",
       "      <td>0.477857</td>\n",
       "      <td>1.770279</td>\n",
       "      <td>12.614400</td>\n",
       "      <td>26.326515</td>\n",
       "      <td>8.303556</td>\n",
       "      <td>104.857709</td>\n",
       "      <td>0.091574</td>\n",
       "    </tr>\n",
       "    <tr>\n",
       "      <th>std</th>\n",
       "      <td>25.652935</td>\n",
       "      <td>6.843189</td>\n",
       "      <td>1.064040</td>\n",
       "      <td>6.167913</td>\n",
       "      <td>29.472897</td>\n",
       "      <td>19.470572</td>\n",
       "      <td>4.506092</td>\n",
       "      <td>106.514540</td>\n",
       "      <td>0.288432</td>\n",
       "    </tr>\n",
       "    <tr>\n",
       "      <th>min</th>\n",
       "      <td>5.812500</td>\n",
       "      <td>24.772042</td>\n",
       "      <td>-1.876011</td>\n",
       "      <td>-1.791886</td>\n",
       "      <td>0.213211</td>\n",
       "      <td>7.370432</td>\n",
       "      <td>-3.139270</td>\n",
       "      <td>-1.976976</td>\n",
       "      <td>0.000000</td>\n",
       "    </tr>\n",
       "    <tr>\n",
       "      <th>25%</th>\n",
       "      <td>100.929688</td>\n",
       "      <td>42.376018</td>\n",
       "      <td>0.027098</td>\n",
       "      <td>-0.188572</td>\n",
       "      <td>1.923077</td>\n",
       "      <td>14.437332</td>\n",
       "      <td>5.781506</td>\n",
       "      <td>34.960504</td>\n",
       "      <td>0.000000</td>\n",
       "    </tr>\n",
       "    <tr>\n",
       "      <th>50%</th>\n",
       "      <td>115.078125</td>\n",
       "      <td>46.947479</td>\n",
       "      <td>0.223240</td>\n",
       "      <td>0.198710</td>\n",
       "      <td>2.801839</td>\n",
       "      <td>18.461316</td>\n",
       "      <td>8.433515</td>\n",
       "      <td>83.064556</td>\n",
       "      <td>0.000000</td>\n",
       "    </tr>\n",
       "    <tr>\n",
       "      <th>75%</th>\n",
       "      <td>127.085938</td>\n",
       "      <td>51.023202</td>\n",
       "      <td>0.473325</td>\n",
       "      <td>0.927783</td>\n",
       "      <td>5.464256</td>\n",
       "      <td>28.428104</td>\n",
       "      <td>10.702959</td>\n",
       "      <td>139.309331</td>\n",
       "      <td>0.000000</td>\n",
       "    </tr>\n",
       "    <tr>\n",
       "      <th>max</th>\n",
       "      <td>192.617188</td>\n",
       "      <td>98.778911</td>\n",
       "      <td>8.069522</td>\n",
       "      <td>68.101622</td>\n",
       "      <td>223.392140</td>\n",
       "      <td>110.642211</td>\n",
       "      <td>34.539844</td>\n",
       "      <td>1191.000837</td>\n",
       "      <td>1.000000</td>\n",
       "    </tr>\n",
       "  </tbody>\n",
       "</table>\n",
       "</div>"
      ],
      "text/plain": [
       "                MIP           SIP          EKIP          SKIP        MDM-SR  \\\n",
       "count  17898.000000  17898.000000  17898.000000  17898.000000  17898.000000   \n",
       "mean     111.079968     46.549532      0.477857      1.770279     12.614400   \n",
       "std       25.652935      6.843189      1.064040      6.167913     29.472897   \n",
       "min        5.812500     24.772042     -1.876011     -1.791886      0.213211   \n",
       "25%      100.929688     42.376018      0.027098     -0.188572      1.923077   \n",
       "50%      115.078125     46.947479      0.223240      0.198710      2.801839   \n",
       "75%      127.085938     51.023202      0.473325      0.927783      5.464256   \n",
       "max      192.617188     98.778911      8.069522     68.101622    223.392140   \n",
       "\n",
       "             SDM-SR       EKDM-SR       SKDM-SR        Target  \n",
       "count  17898.000000  17898.000000  17898.000000  17898.000000  \n",
       "mean      26.326515      8.303556    104.857709      0.091574  \n",
       "std       19.470572      4.506092    106.514540      0.288432  \n",
       "min        7.370432     -3.139270     -1.976976      0.000000  \n",
       "25%       14.437332      5.781506     34.960504      0.000000  \n",
       "50%       18.461316      8.433515     83.064556      0.000000  \n",
       "75%       28.428104     10.702959    139.309331      0.000000  \n",
       "max      110.642211     34.539844   1191.000837      1.000000  "
      ]
     },
     "execution_count": 7,
     "metadata": {},
     "output_type": "execute_result"
    }
   ],
   "source": [
    "# Getting the statistical details of the dataset\n",
    "df.describe()"
   ]
  },
  {
   "cell_type": "code",
   "execution_count": 8,
   "metadata": {},
   "outputs": [
    {
     "data": {
      "image/png": "[encoded data removed]",
      "text/plain": [
       "<Figure size 720x576 with 2 Axes>"
      ]
     },
     "metadata": {
      "needs_background": "light"
     },
     "output_type": "display_data"
    }
   ],
   "source": [
    "correlation = df.corr()\n",
    "plt.figure(figsize=(10,8))\n",
    "sns.heatmap(correlation,annot=True,\n",
    "            cmap=sns.color_palette(\"inferno_r\"),\n",
    "            linewidth=1,edgecolor=\"k\")\n",
    "plt.title(\"Interdependency of Variables\")\n",
    "plt.show()"
   ]
  },
  {
   "cell_type": "markdown",
   "metadata": {},
   "source": [
    "# 3. Pre-Processing Data"
   ]
  },
  {
   "cell_type": "code",
   "execution_count": 9,
   "metadata": {},
   "outputs": [
    {
     "name": "stdout",
     "output_type": "stream",
     "text": [
      "(17898, 8)\n",
      "(17898, 1)\n"
     ]
    }
   ],
   "source": [
    "# Changing dataframe to array and separating target values from feature values\n",
    "pulsar_x= np.array((df.loc[:,'MIP':'SKDM-SR']))\n",
    "pulsar_y= np.array((df.loc[:,'Target']))\n",
    "pulsar_x=pulsar_x.reshape(pulsar_x.shape[0],8)\n",
    "pulsar_y=pulsar_y.reshape(pulsar_y.shape[0],1)\n",
    "print(pulsar_x.shape)\n",
    "print(pulsar_y.shape)\n"
   ]
  },
  {
   "cell_type": "code",
   "execution_count": 10,
   "metadata": {},
   "outputs": [
    {
     "name": "stdout",
     "output_type": "stream",
     "text": [
      "(13423, 1)\n",
      "(13423, 8)\n",
      "(4475, 1)\n"
     ]
    }
   ],
   "source": [
    "# Scaling Data\n",
    "x_scale = preprocessing.scale(pulsar_x)\n",
    "# splitting data into a 75:25 train test split\n",
    "x_train, x_test, y_train, y_test = train_test_split(x_scale, pulsar_y, test_size = .25)\n",
    "y_train = y_train.reshape((y_train.shape[0]), 1)\n",
    "print(y_train.shape)\n",
    "print(x_train.shape)\n",
    "print(y_test.shape)"
   ]
  },
  {
   "cell_type": "markdown",
   "metadata": {},
   "source": [
    "# 4. Logistic Regression Without Feature Transformation\n",
    "\n",
    "##  4.1 With L1 Regularization:"
   ]
  },
  {
   "cell_type": "code",
   "execution_count": 11,
   "metadata": {},
   "outputs": [],
   "source": [
    "# Initializing lists for different accuracy values for train and test sets corresponding to different values of parameter C\n",
    "acc_train_logreg = [] \n",
    "acc_test_logreg = []\n",
    "Yhat_test_logreg = []\n",
    "c_logreg = []\n",
    "prec_test_logreg = []\n",
    "fscore_test_logreg =[]"
   ]
  },
  {
   "cell_type": "code",
   "execution_count": 12,
   "metadata": {},
   "outputs": [],
   "source": [
    "def logreg_model_L1(c , X_train, Y_train, X_test, Y_test):\n",
    "    # Create an object of logistic regression model using linear_model.\n",
    "    \n",
    "  \n",
    "    logreg = linear_model.LogisticRegression(C=c,penalty='l1', warm_start=True, solver='saga', max_iter = 5000)\n",
    "    \n",
    "    logreg.fit(X_train, Y_train)\n",
    "    \n",
    "    Yhat_train = logreg.predict(X_train)\n",
    "    \n",
    "  \n",
    "    # Adding training accuracy to acc_train_logreg\n",
    "    acc_train = np.mean(Yhat_train == Y_train)\n",
    "    acc_train_logreg.append(acc_train)\n",
    "    \n",
    "    # Printing values of C and no. of iterations\n",
    "    print(\"For C = %f\" % c)\n",
    "    print(\"Accuracy on training data = %f\" % acc_train)\n",
    "#     prec_train , recal_train , fscore_train,_ = precision_recall_fscore_support(Y_train, Yhat_train, average = 'weighted')\n",
    "#     print(\"Precision on train data = %f\" % prec)\n",
    "#     print(\"Recal on train data = %f\" % recal)\n",
    "#     print(\"fscore on train data = %f\" % fscore)\n",
    "  # Find the prediction on test sets\n",
    "    Yhat_test = logreg.predict(X_test)\n",
    "    # Adding testing accuracy to acc_test_logreg\n",
    "    acc_test = np.mean(Yhat_test == Y_test)\n",
    "    acc_test_logreg.append(acc_test)\n",
    "    print(\"Accuracy on test data = %f\" % acc_test)\n",
    "    prec , recal , fscore,_ = precision_recall_fscore_support(Y_test, Yhat_test, average = 'weighted')\n",
    "    prec_test_logreg.append(prec)\n",
    "    fscore_test_logreg.append(fscore)\n",
    "    print(\"Precision on test data = %f\" % prec)\n",
    "    print(\"Recal on test data = %f\" % recal)\n",
    "    print(\"fscore on test data = %f\" % fscore)\n",
    "    \n",
    "   # Find precision, recall, and fscore \n",
    "    \n",
    "    # Appending value of c for graphing purposes\n",
    "    c_logreg.append(c)\n",
    "    Yhat_test_logreg.append(Yhat_test)"
   ]
  },
  {
   "cell_type": "code",
   "execution_count": 13,
   "metadata": {
    "scrolled": false
   },
   "outputs": [
    {
     "name": "stderr",
     "output_type": "stream",
     "text": [
      "C:\\Users\\zafir\\Anaconda3\\lib\\site-packages\\sklearn\\utils\\validation.py:761: DataConversionWarning: A column-vector y was passed when a 1d array was expected. Please change the shape of y to (n_samples, ), for example using ravel().\n",
      "  y = column_or_1d(y, warn=True)\n"
     ]
    },
    {
     "name": "stdout",
     "output_type": "stream",
     "text": [
      "For C = 0.000100\n",
      "Accuracy on training data = 0.909409\n",
      "Accuracy on test data = 0.905475\n",
      "Precision on test data = 0.819885\n",
      "Recal on test data = 0.905475\n",
      "fscore on test data = 0.860557\n"
     ]
    },
    {
     "name": "stderr",
     "output_type": "stream",
     "text": [
      "C:\\Users\\zafir\\Anaconda3\\lib\\site-packages\\sklearn\\metrics\\classification.py:1143: UndefinedMetricWarning: Precision and F-score are ill-defined and being set to 0.0 in labels with no predicted samples.\n",
      "  'precision', 'predicted', average, warn_for)\n",
      "C:\\Users\\zafir\\Anaconda3\\lib\\site-packages\\sklearn\\utils\\validation.py:761: DataConversionWarning: A column-vector y was passed when a 1d array was expected. Please change the shape of y to (n_samples, ), for example using ravel().\n",
      "  y = column_or_1d(y, warn=True)\n"
     ]
    },
    {
     "name": "stdout",
     "output_type": "stream",
     "text": [
      "For C = 0.001000\n",
      "Accuracy on training data = 0.874883\n",
      "Accuracy on test data = 0.873218\n",
      "Precision on test data = 0.946889\n",
      "Recal on test data = 0.944358\n",
      "fscore on test data = 0.933833\n"
     ]
    },
    {
     "name": "stderr",
     "output_type": "stream",
     "text": [
      "C:\\Users\\zafir\\Anaconda3\\lib\\site-packages\\sklearn\\utils\\validation.py:761: DataConversionWarning: A column-vector y was passed when a 1d array was expected. Please change the shape of y to (n_samples, ), for example using ravel().\n",
      "  y = column_or_1d(y, warn=True)\n"
     ]
    },
    {
     "name": "stdout",
     "output_type": "stream",
     "text": [
      "For C = 0.010000\n",
      "Accuracy on training data = 0.849994\n",
      "Accuracy on test data = 0.845854\n",
      "Precision on test data = 0.970368\n",
      "Recal on test data = 0.970950\n",
      "fscore on test data = 0.969301\n"
     ]
    },
    {
     "name": "stderr",
     "output_type": "stream",
     "text": [
      "C:\\Users\\zafir\\Anaconda3\\lib\\site-packages\\sklearn\\utils\\validation.py:761: DataConversionWarning: A column-vector y was passed when a 1d array was expected. Please change the shape of y to (n_samples, ), for example using ravel().\n",
      "  y = column_or_1d(y, warn=True)\n"
     ]
    },
    {
     "name": "stdout",
     "output_type": "stream",
     "text": [
      "For C = 0.100000\n",
      "Accuracy on training data = 0.845724\n",
      "Accuracy on test data = 0.841505\n",
      "Precision on test data = 0.975362\n",
      "Recal on test data = 0.975866\n",
      "fscore on test data = 0.974881\n"
     ]
    },
    {
     "name": "stderr",
     "output_type": "stream",
     "text": [
      "C:\\Users\\zafir\\Anaconda3\\lib\\site-packages\\sklearn\\utils\\validation.py:761: DataConversionWarning: A column-vector y was passed when a 1d array was expected. Please change the shape of y to (n_samples, ), for example using ravel().\n",
      "  y = column_or_1d(y, warn=True)\n"
     ]
    },
    {
     "name": "stdout",
     "output_type": "stream",
     "text": [
      "For C = 1.000000\n",
      "Accuracy on training data = 0.843894\n",
      "Accuracy on test data = 0.839512\n",
      "Precision on test data = 0.977406\n",
      "Recal on test data = 0.977877\n",
      "fscore on test data = 0.977128\n"
     ]
    },
    {
     "name": "stderr",
     "output_type": "stream",
     "text": [
      "C:\\Users\\zafir\\Anaconda3\\lib\\site-packages\\sklearn\\utils\\validation.py:761: DataConversionWarning: A column-vector y was passed when a 1d array was expected. Please change the shape of y to (n_samples, ), for example using ravel().\n",
      "  y = column_or_1d(y, warn=True)\n"
     ]
    },
    {
     "name": "stdout",
     "output_type": "stream",
     "text": [
      "For C = 10.000000\n",
      "Accuracy on training data = 0.843955\n",
      "Accuracy on test data = 0.839330\n",
      "Precision on test data = 0.977636\n",
      "Recal on test data = 0.978101\n",
      "fscore on test data = 0.977372\n"
     ]
    },
    {
     "name": "stderr",
     "output_type": "stream",
     "text": [
      "C:\\Users\\zafir\\Anaconda3\\lib\\site-packages\\sklearn\\utils\\validation.py:761: DataConversionWarning: A column-vector y was passed when a 1d array was expected. Please change the shape of y to (n_samples, ), for example using ravel().\n",
      "  y = column_or_1d(y, warn=True)\n"
     ]
    },
    {
     "name": "stdout",
     "output_type": "stream",
     "text": [
      "For C = 100.000000\n",
      "Accuracy on training data = 0.843955\n",
      "Accuracy on test data = 0.839330\n",
      "Precision on test data = 0.977636\n",
      "Recal on test data = 0.978101\n",
      "fscore on test data = 0.977372\n"
     ]
    }
   ],
   "source": [
    "# Call the above function i.e. logreg_model with different values of parameter 'c'.\n",
    "c_values = [0.0001, 0.001, 0.01, 0.1, 1, 10,100]\n",
    "\n",
    "for c in c_values:\n",
    "    logreg_model_L1(c, x_train, y_train, x_test, y_test)    \n",
    "    "
   ]
  },
  {
   "cell_type": "code",
   "execution_count": 14,
   "metadata": {},
   "outputs": [
    {
     "data": {
      "text/plain": [
       "<matplotlib.legend.Legend at 0x1ceb7dd0b70>"
      ]
     },
     "execution_count": 14,
     "metadata": {},
     "output_type": "execute_result"
    },
    {
     "data": {
      "image/png": "[encoded data removed]",
      "text/plain": [
       "<Figure size 432x288 with 1 Axes>"
      ]
     },
     "metadata": {
      "needs_background": "light"
     },
     "output_type": "display_data"
    }
   ],
   "source": [
    "plt.plot(c_logreg, prec_test_logreg, 'ro-') \n",
    "plt.plot(c_logreg, acc_test_logreg,'bo-') \n",
    "plt.plot(c_logreg, fscore_test_logreg,'yo-') \n",
    "plt.grid()\n",
    "# Use the following function to have a legend\n",
    "plt.legend(['Test Precision', 'Test Accuracy', 'Fscore'], loc='lower right')"
   ]
  },
  {
   "cell_type": "markdown",
   "metadata": {},
   "source": [
    "## 4.2 With L2 Regularization"
   ]
  },
  {
   "cell_type": "code",
   "execution_count": 15,
   "metadata": {},
   "outputs": [
    {
     "name": "stdout",
     "output_type": "stream",
     "text": [
      "[]\n"
     ]
    }
   ],
   "source": [
    "acc_train_logreg_L2 = [] \n",
    "acc_test_logreg_L2 = []\n",
    "Yhat_test_logreg_L2 = []\n",
    "c_logreg_L2 = []\n",
    "prec_test_logreg.clear()\n",
    "fscore_test_logreg.clear()\n",
    "print(prec_test_logreg)\n"
   ]
  },
  {
   "cell_type": "code",
   "execution_count": 16,
   "metadata": {},
   "outputs": [],
   "source": [
    "def logreg_model_L2(c , X_train, Y_train, X_test, Y_test):\n",
    "    # Create an object of logistic regression model using linear_model.\n",
    "    \n",
    "  \n",
    "    logreg = linear_model.LogisticRegression(C=c, warm_start=True, solver='saga', max_iter = 5000)\n",
    "    \n",
    "    logreg.fit(X_train, Y_train)\n",
    "    \n",
    "    Yhat_train = logreg.predict(X_train)\n",
    "    \n",
    "  \n",
    "    # Adding training accuracy to acc_train_logreg\n",
    "    acc_train = np.mean(Yhat_train == Y_train)\n",
    "    acc_train_logreg_L2.append(acc_train)\n",
    "    \n",
    "    # Printing values of C and no. of iterations\n",
    "    print(\"For C = %f\" % c)\n",
    "    print(\"Accuracy on training data = %f\" % acc_train)\n",
    "#     prec_train , recal_train , fscore_train,_ = precision_recall_fscore_support(Y_train, Yhat_train, average = 'weighted')\n",
    "#     print(\"Precision on train data = %f\" % prec)\n",
    "#     print(\"Recal on train data = %f\" % recal)\n",
    "#     print(\"fscore on train data = %f\" % fscore)\n",
    "  # Find the prediction on test sets\n",
    "    Yhat_test = logreg.predict(X_test)\n",
    "    # Adding testing accuracy to acc_test_logreg\n",
    "    acc_test = np.mean(Yhat_test == Y_test)\n",
    "    acc_test_logreg_L2.append(acc_test)\n",
    "    print(\"Accuracy on test data = %f\" % acc_test)\n",
    "    prec , recal , fscore,_ = precision_recall_fscore_support(Y_test, Yhat_test, average = 'weighted')\n",
    "    prec_test_logreg.append(prec)\n",
    "    fscore_test_logreg.append(fscore)\n",
    "    print(\"Precision on test data = %f\" % prec)\n",
    "    print(\"Recal on test data = %f\" % recal)\n",
    "    print(\"fscore on test data = %f\" % fscore)\n",
    "    \n",
    "   # Find precision, recall, and fscore \n",
    "    \n",
    "    # Appending value of c for graphing purposes\n",
    "    c_logreg_L2.append(c)\n",
    "    Yhat_test_logreg_L2.append(Yhat_test)"
   ]
  },
  {
   "cell_type": "code",
   "execution_count": null,
   "metadata": {
    "scrolled": false
   },
   "outputs": [
    {
     "name": "stderr",
     "output_type": "stream",
     "text": [
      "C:\\Users\\zafir\\Anaconda3\\lib\\site-packages\\sklearn\\utils\\validation.py:761: DataConversionWarning: A column-vector y was passed when a 1d array was expected. Please change the shape of y to (n_samples, ), for example using ravel().\n",
      "  y = column_or_1d(y, warn=True)\n"
     ]
    },
    {
     "name": "stdout",
     "output_type": "stream",
     "text": [
      "For C = 0.000100\n",
      "Accuracy on training data = 0.891902\n",
      "Accuracy on test data = 0.891340\n",
      "Precision on test data = 0.928954\n",
      "Recal on test data = 0.922905\n",
      "fscore on test data = 0.897934\n"
     ]
    },
    {
     "name": "stderr",
     "output_type": "stream",
     "text": [
      "C:\\Users\\zafir\\Anaconda3\\lib\\site-packages\\sklearn\\utils\\validation.py:761: DataConversionWarning: A column-vector y was passed when a 1d array was expected. Please change the shape of y to (n_samples, ), for example using ravel().\n",
      "  y = column_or_1d(y, warn=True)\n"
     ]
    },
    {
     "name": "stdout",
     "output_type": "stream",
     "text": [
      "For C = 0.001000\n",
      "Accuracy on training data = 0.863353\n",
      "Accuracy on test data = 0.859808\n",
      "Precision on test data = 0.958029\n",
      "Recal on test data = 0.957765\n",
      "fscore on test data = 0.952852\n"
     ]
    },
    {
     "name": "stderr",
     "output_type": "stream",
     "text": [
      "C:\\Users\\zafir\\Anaconda3\\lib\\site-packages\\sklearn\\utils\\validation.py:761: DataConversionWarning: A column-vector y was passed when a 1d array was expected. Please change the shape of y to (n_samples, ), for example using ravel().\n",
      "  y = column_or_1d(y, warn=True)\n"
     ]
    },
    {
     "name": "stdout",
     "output_type": "stream",
     "text": [
      "For C = 0.010000\n",
      "Accuracy on training data = 0.851031\n",
      "Accuracy on test data = 0.846760\n",
      "Precision on test data = 0.969227\n",
      "Recal on test data = 0.969832\n",
      "fscore on test data = 0.968015\n"
     ]
    },
    {
     "name": "stderr",
     "output_type": "stream",
     "text": [
      "C:\\Users\\zafir\\Anaconda3\\lib\\site-packages\\sklearn\\utils\\validation.py:761: DataConversionWarning: A column-vector y was passed when a 1d array was expected. Please change the shape of y to (n_samples, ), for example using ravel().\n",
      "  y = column_or_1d(y, warn=True)\n"
     ]
    },
    {
     "name": "stdout",
     "output_type": "stream",
     "text": [
      "For C = 0.100000\n",
      "Accuracy on training data = 0.846883\n",
      "Accuracy on test data = 0.843136\n",
      "Precision on test data = 0.974286\n",
      "Recal on test data = 0.974749\n",
      "fscore on test data = 0.973570\n"
     ]
    },
    {
     "name": "stderr",
     "output_type": "stream",
     "text": [
      "C:\\Users\\zafir\\Anaconda3\\lib\\site-packages\\sklearn\\utils\\validation.py:761: DataConversionWarning: A column-vector y was passed when a 1d array was expected. Please change the shape of y to (n_samples, ), for example using ravel().\n",
      "  y = column_or_1d(y, warn=True)\n"
     ]
    },
    {
     "name": "stdout",
     "output_type": "stream",
     "text": [
      "For C = 1.000000\n",
      "Accuracy on training data = 0.844443\n",
      "Accuracy on test data = 0.840599\n",
      "Precision on test data = 0.976509\n",
      "Recal on test data = 0.976983\n",
      "fscore on test data = 0.976117\n"
     ]
    },
    {
     "name": "stderr",
     "output_type": "stream",
     "text": [
      "C:\\Users\\zafir\\Anaconda3\\lib\\site-packages\\sklearn\\utils\\validation.py:761: DataConversionWarning: A column-vector y was passed when a 1d array was expected. Please change the shape of y to (n_samples, ), for example using ravel().\n",
      "  y = column_or_1d(y, warn=True)\n"
     ]
    },
    {
     "name": "stdout",
     "output_type": "stream",
     "text": [
      "For C = 10.000000\n",
      "Accuracy on training data = 0.844077\n",
      "Accuracy on test data = 0.839512\n",
      "Precision on test data = 0.977406\n",
      "Recal on test data = 0.977877\n",
      "fscore on test data = 0.977128\n"
     ]
    },
    {
     "name": "stderr",
     "output_type": "stream",
     "text": [
      "C:\\Users\\zafir\\Anaconda3\\lib\\site-packages\\sklearn\\utils\\validation.py:761: DataConversionWarning: A column-vector y was passed when a 1d array was expected. Please change the shape of y to (n_samples, ), for example using ravel().\n",
      "  y = column_or_1d(y, warn=True)\n"
     ]
    },
    {
     "name": "stdout",
     "output_type": "stream",
     "text": [
      "For C = 100.000000\n",
      "Accuracy on training data = 0.843955\n",
      "Accuracy on test data = 0.839330\n",
      "Precision on test data = 0.977636\n",
      "Recal on test data = 0.978101\n",
      "fscore on test data = 0.977372\n"
     ]
    }
   ],
   "source": [
    "c_values = [0.0001, 0.001, 0.01, 0.1, 1, 10,100]\n",
    "\n",
    "for c in c_values:\n",
    "    logreg_model_L2(c, x_train, y_train, x_test, y_test)  "
   ]
  },
  {
   "cell_type": "code",
   "execution_count": null,
   "metadata": {},
   "outputs": [
    {
     "data": {
      "text/plain": [
       "<matplotlib.legend.Legend at 0x1ceb7ed6588>"
      ]
     },
     "execution_count": 18,
     "metadata": {},
     "output_type": "execute_result"
    },
    {
     "data": {
      "image/png": "[encoded data removed]",
      "text/plain": [
       "<Figure size 432x288 with 1 Axes>"
      ]
     },
     "metadata": {
      "needs_background": "light"
     },
     "output_type": "display_data"
    }
   ],
   "source": [
    "plt.plot(c_logreg_L2, prec_test_logreg, 'ro-') \n",
    "plt.plot(c_logreg_L2, acc_test_logreg,'bo-') \n",
    "plt.plot(c_logreg_L2, fscore_test_logreg,'yo-') \n",
    "plt.grid()\n",
    "# Use the following function to have a legend\n",
    "plt.legend(['Test Precision', 'Test Accuracy','Fscore'], loc='lower right')"
   ]
  },
  {
   "cell_type": "markdown",
   "metadata": {},
   "source": [
    "# 4.3 Logistic Regression using Polynomial Feature Transformation\n",
    "## 4.3.1 Using L1 Regularization without PCA"
   ]
  },
  {
   "cell_type": "code",
   "execution_count": null,
   "metadata": {},
   "outputs": [],
   "source": [
    "from sklearn.preprocessing import PolynomialFeatures"
   ]
  },
  {
   "cell_type": "code",
   "execution_count": null,
   "metadata": {},
   "outputs": [],
   "source": [
    "ply = PolynomialFeatures(degree = 2)"
   ]
  },
  {
   "cell_type": "code",
   "execution_count": null,
   "metadata": {},
   "outputs": [
    {
     "name": "stdout",
     "output_type": "stream",
     "text": [
      "(13423, 45)\n",
      "(4475, 45)\n"
     ]
    }
   ],
   "source": [
    "X_transformed_train = ply.fit_transform(x_train)\n",
    "X_transformed_test = ply.fit_transform(x_test)\n",
    "print(X_transformed_train.shape)\n",
    "print(X_transformed_test.shape)"
   ]
  },
  {
   "cell_type": "code",
   "execution_count": null,
   "metadata": {},
   "outputs": [
    {
     "name": "stderr",
     "output_type": "stream",
     "text": [
      "C:\\Users\\zafir\\Anaconda3\\lib\\site-packages\\sklearn\\utils\\validation.py:761: DataConversionWarning: A column-vector y was passed when a 1d array was expected. Please change the shape of y to (n_samples, ), for example using ravel().\n",
      "  y = column_or_1d(y, warn=True)\n"
     ]
    },
    {
     "name": "stdout",
     "output_type": "stream",
     "text": [
      "For C = 0.000100\n",
      "Accuracy on training data = 0.909104\n",
      "Accuracy on test data = 0.905475\n",
      "Precision on test data = 0.819885\n",
      "Recal on test data = 0.905475\n",
      "fscore on test data = 0.860557\n"
     ]
    },
    {
     "name": "stderr",
     "output_type": "stream",
     "text": [
      "C:\\Users\\zafir\\Anaconda3\\lib\\site-packages\\sklearn\\metrics\\classification.py:1143: UndefinedMetricWarning: Precision and F-score are ill-defined and being set to 0.0 in labels with no predicted samples.\n",
      "  'precision', 'predicted', average, warn_for)\n",
      "C:\\Users\\zafir\\Anaconda3\\lib\\site-packages\\sklearn\\utils\\validation.py:761: DataConversionWarning: A column-vector y was passed when a 1d array was expected. Please change the shape of y to (n_samples, ), for example using ravel().\n",
      "  y = column_or_1d(y, warn=True)\n"
     ]
    },
    {
     "name": "stdout",
     "output_type": "stream",
     "text": [
      "For C = 0.001000\n",
      "Accuracy on training data = 0.872199\n",
      "Accuracy on test data = 0.871043\n",
      "Precision on test data = 0.948638\n",
      "Recal on test data = 0.946592\n",
      "fscore on test data = 0.937188\n"
     ]
    },
    {
     "name": "stderr",
     "output_type": "stream",
     "text": [
      "C:\\Users\\zafir\\Anaconda3\\lib\\site-packages\\sklearn\\utils\\validation.py:761: DataConversionWarning: A column-vector y was passed when a 1d array was expected. Please change the shape of y to (n_samples, ), for example using ravel().\n",
      "  y = column_or_1d(y, warn=True)\n"
     ]
    },
    {
     "name": "stdout",
     "output_type": "stream",
     "text": [
      "For C = 0.010000\n",
      "Accuracy on training data = 0.849994\n",
      "Accuracy on test data = 0.845854\n",
      "Precision on test data = 0.970368\n",
      "Recal on test data = 0.970950\n",
      "fscore on test data = 0.969301\n"
     ]
    },
    {
     "name": "stderr",
     "output_type": "stream",
     "text": [
      "C:\\Users\\zafir\\Anaconda3\\lib\\site-packages\\sklearn\\utils\\validation.py:761: DataConversionWarning: A column-vector y was passed when a 1d array was expected. Please change the shape of y to (n_samples, ), for example using ravel().\n",
      "  y = column_or_1d(y, warn=True)\n"
     ]
    },
    {
     "name": "stdout",
     "output_type": "stream",
     "text": [
      "For C = 0.100000\n",
      "Accuracy on training data = 0.844504\n",
      "Accuracy on test data = 0.837881\n",
      "Precision on test data = 0.977583\n",
      "Recal on test data = 0.978101\n",
      "fscore on test data = 0.977480\n"
     ]
    },
    {
     "name": "stderr",
     "output_type": "stream",
     "text": [
      "C:\\Users\\zafir\\Anaconda3\\lib\\site-packages\\sklearn\\utils\\validation.py:761: DataConversionWarning: A column-vector y was passed when a 1d array was expected. Please change the shape of y to (n_samples, ), for example using ravel().\n",
      "  y = column_or_1d(y, warn=True)\n"
     ]
    }
   ],
   "source": [
    "acc_train_logreg = []\n",
    "acc_test_logreg = []\n",
    "c_logreg = []\n",
    "fscore_test_logreg.clear()\n",
    "prec_test_logreg.clear()\n",
    "\n",
    "\n",
    "# Call the function logreg_model.\n",
    "for c in c_values:\n",
    "    logreg_model_L1(c, X_transformed_train, y_train, X_transformed_test, y_test)\n",
    "    \n",
    "plt.plot(c_logreg, prec_test_logreg, 'ro-') \n",
    "plt.plot(c_logreg, acc_test_logreg,'bo-') \n",
    "plt.plot(c_logreg, fscore_test_logreg,'yo-')\n",
    "plt.grid()\n",
    "plt.legend(['Test Precision', 'Test Accuracy','Fscore'], loc='upper right')\n",
    "    \n"
   ]
  },
  {
   "cell_type": "markdown",
   "metadata": {},
   "source": [
    "## 4.3.2 Using L1 Regularization with PCA\n"
   ]
  },
  {
   "cell_type": "code",
   "execution_count": null,
   "metadata": {},
   "outputs": [],
   "source": [
    "from sklearn.decomposition import PCA\n",
    "pca = PCA(.95)\n",
    "pca_x_transformed_train = pca.fit_transform(X_transformed_train)\n",
    "pca_x_transformed_test = pca.transform(X_transformed_test)\n",
    "pca.n_components_"
   ]
  },
  {
   "cell_type": "code",
   "execution_count": null,
   "metadata": {},
   "outputs": [],
   "source": [
    "acc_train_logreg = []\n",
    "acc_test_logreg = []\n",
    "c_logreg = []\n",
    "fscore_test_logreg.clear()\n",
    "prec_test_logreg.clear()\n",
    "\n",
    "# Call the function logreg_model.\n",
    "for c in c_values:\n",
    "    logreg_model_L1(c, X_transformed_train, y_train, X_transformed_test, y_test)\n",
    "    \n",
    "plt.plot(c_logreg, prec_test_logreg, 'ro-') \n",
    "plt.plot(c_logreg, acc_test_logreg,'bo-') \n",
    "plt.plot(c_logreg, fscore_test_logreg,'yo-')\n",
    "plt.grid()\n",
    "plt.legend(['Test Precision', 'Test Accuracy', 'Fscore'], loc='upper right')\n",
    "    "
   ]
  },
  {
   "cell_type": "markdown",
   "metadata": {},
   "source": [
    "## 4.3.3 Using L2 Regularization without PCA"
   ]
  },
  {
   "cell_type": "code",
   "execution_count": null,
   "metadata": {},
   "outputs": [],
   "source": [
    "acc_train_logreg_L2 = [] \n",
    "acc_test_logreg_L2 = []\n",
    "Yhat_test_logreg_L2 = []\n",
    "c_logreg_L2 = []\n",
    "fscore_test_logreg.clear()\n",
    "prec_test_logreg.clear()\n",
    "# Call the function logreg_model.\n",
    "for c in c_values:\n",
    "    logreg_model_L2(c, X_transformed_train, y_train, X_transformed_test, y_test)\n",
    "    \n",
    "plt.plot(c_logreg, prec_test_logreg, 'ro-') \n",
    "plt.plot(c_logreg, acc_test_logreg,'bo-') \n",
    "plt.plot(c_logreg, fscore_test_logreg,'yo-') \n",
    "plt.grid()\n",
    "plt.legend(['Test Precision', 'Test Accuracy', 'Fscore'], loc='upper right')\n",
    "    \n"
   ]
  },
  {
   "cell_type": "markdown",
   "metadata": {},
   "source": [
    "## 4.3.4 Using L2 regularization with PCA"
   ]
  },
  {
   "cell_type": "code",
   "execution_count": null,
   "metadata": {},
   "outputs": [],
   "source": [
    "pca = PCA(.95)\n",
    "pca_x_transformed_train = pca.fit_transform(X_transformed_train)\n",
    "pca_x_transformed_test = pca.transform(X_transformed_test)\n",
    "pca.n_components_"
   ]
  },
  {
   "cell_type": "code",
   "execution_count": null,
   "metadata": {},
   "outputs": [],
   "source": [
    "acc_train_logreg_L2 = [] \n",
    "acc_test_logreg_L2 = []\n",
    "Yhat_test_logreg_L2 = []\n",
    "c_logreg_L2 = []\n",
    "fscore_test_logreg.clear()\n",
    "prec_test_logreg.clear()\n",
    "# Call the function logreg_model.\n",
    "for c in c_values:\n",
    "    logreg_model_L2(c, X_transformed_train, y_train, X_transformed_test, y_test)\n",
    "    \n",
    "plt.plot(c_logreg, prec_test_logreg, 'ro-') \n",
    "plt.plot(c_logreg, acc_test_logreg,'bo-') \n",
    "plt.plot(c_logreg, fscore_test_logreg,'yo-') \n",
    "plt.grid()\n",
    "plt.legend(['Test Precision', 'Test Accuracy', 'Fscore'], loc='upper right')"
   ]
  },
  {
   "cell_type": "markdown",
   "metadata": {},
   "source": [
    "# 5. Support Vector Machine (SVM)"
   ]
  },
  {
   "cell_type": "markdown",
   "metadata": {},
   "source": [
    "## 5.1 Using Linear Kernel"
   ]
  },
  {
   "cell_type": "code",
   "execution_count": null,
   "metadata": {},
   "outputs": [],
   "source": [
    "acc_train_svm_linear = []\n",
    "acc_test_svm_linear = []\n",
    "c_svm_linear = []\n",
    "prec_test_svm_linear = []\n",
    "fscore_test_svm_linear = []"
   ]
  },
  {
   "cell_type": "code",
   "execution_count": null,
   "metadata": {},
   "outputs": [],
   "source": [
    "from sklearn import svm\n",
    "\n",
    "# Complete the function below:\n",
    "# In this function and next 2 functions, we are not passing the data matrices as parameters \n",
    "# because we can use global variables inside the functions.\n",
    "def svm_linear(c, X_train, Y_train, X_test, Y_test):\n",
    "    # TODO - Create an object of svm.SVC(probability = False, kernel = 'linear', C = c) - 5 points\n",
    "    svc_linear = svm.SVC(probability = False, kernel = 'linear', C = c)\n",
    "    \n",
    "    # TODO - Fit the classifier on the training set - 5 points\n",
    "    svc_linear.fit(X_train, Y_train)\n",
    "    # TODO - Find the prediction and accuracy on the training set - 5 points\n",
    "    Yhat_svc_linear_train = svc_linear.predict(X_train)\n",
    "    acc_train = np.mean(Yhat_svc_linear_train == Y_train)\n",
    "    \n",
    "    # Adding testing accuracy to acc_train_svm\n",
    "    acc_train_svm_linear.append(acc_train)\n",
    "    print('Train Accuracy = {0:f}'.format(acc_train))\n",
    "    \n",
    "    # TODO - Find the prediction and accuracy on the test set - 5 points\n",
    "    Yhat_svc_linear_test = svc_linear.predict(X_test)\n",
    "    acc_test = np.mean(Yhat_svc_linear_test == Y_test)\n",
    "    \n",
    "    # Adding testing accuracy to acc_test_svm\n",
    "    acc_test_svm_linear.append(acc_test)\n",
    "    print('Test Accuracy = {0:f}'.format(acc_test))\n",
    "    prec , recal , fscore,_ = precision_recall_fscore_support(Y_test, Yhat_svc_linear_test, average = 'weighted')\n",
    "    prec_test_svm_linear.append(prec)\n",
    "    fscore_test_svm_linear.append(fscore)\n",
    "    print(\"Precision on test data = %f\" % prec)\n",
    "    print(\"Recal on test data = %f\" % recal)\n",
    "    print(\"fscore on test data = %f\" % fscore)\n",
    "    \n",
    "    \n",
    "    # Appending value of c for graphing purposes\n",
    "    c_svm_linear.append(c)\n",
    "    "
   ]
  },
  {
   "cell_type": "code",
   "execution_count": null,
   "metadata": {},
   "outputs": [],
   "source": [
    "print(c_values)\n",
    "for c in c_values:\n",
    "    svm_linear(c,x_train,y_train, x_test, y_test)\n"
   ]
  },
  {
   "cell_type": "code",
   "execution_count": null,
   "metadata": {},
   "outputs": [],
   "source": [
    "print(acc_test_svm_linear)\n",
    "# Plot training accuracy(Y-axis) v/s 'c' on X - Axis.\n",
    "# Plot test accuracy(Y-Axis) v/s 'c' on X - Axis.\n",
    "\n",
    "plt.plot(c_svm_linear, prec_test_svm_linear, 'ro-') \n",
    "plt.plot(c_svm_linear, acc_test_svm_linear,'bo-') \n",
    "plt.plot(c_svm_linear, fscore_test_svm_linear,'yo-') \n",
    "plt.grid()\n",
    "\n",
    "# Use the following function to have a legend\n",
    "plt.legend(['Test Precision', 'Test Accuracy','Fscore'], loc='upper right')"
   ]
  },
  {
   "cell_type": "markdown",
   "metadata": {},
   "source": [
    "## 5.2 Using Radial Basis Function (RBF) Kernel"
   ]
  },
  {
   "cell_type": "code",
   "execution_count": null,
   "metadata": {},
   "outputs": [],
   "source": [
    "acc_train_svm_rbf = []\n",
    "acc_test_svm_rbf = []\n",
    "c_svm_rbf = []\n",
    "prec_test_svm_rbf = []\n",
    "fscore_test_svm_rbf = []"
   ]
  },
  {
   "cell_type": "code",
   "execution_count": null,
   "metadata": {},
   "outputs": [],
   "source": [
    "from sklearn import svm\n",
    "\n",
    "# Complete the function below:\n",
    "# In this function and next 2 functions, we are not passing the data matrices as parameters \n",
    "# because we can use global variables inside the functions.\n",
    "def svm_rbf(c,X_train,Y_train, X_test, Y_test):\n",
    "    # TODO - Create an object of svm.SVC(probability = False, kernel = 'rbf', C = c) - 5 points\n",
    "    svc_rbf = svm.SVC(probability = False, kernel = 'rbf', C = c)\n",
    "    \n",
    "    # TODO - Fit the classifier on the trai  ning set - 5 points\n",
    "    svc_rbf.fit(X_train, Y_train)\n",
    "    # TODO - Find the prediction and accuracy on the training set - 5 points\n",
    "    Yhat_svc_rbf_train = svc_rbf.predict(X_train)\n",
    "    acc_train = np.mean(Yhat_svc_rbf_train == Y_train)\n",
    "    \n",
    "    # Adding testing accuracy to acc_train_svm\n",
    "    acc_train_svm_rbf.append(acc_train)\n",
    "    print('Train Accuracy = {0:f}'.format(acc_train))\n",
    "    \n",
    "    # TODO - Find the prediction and accuracy on the test set - 5 points\n",
    "    Yhat_svc_rbf_test = svc_rbf.predict(X_test)\n",
    "    acc_test = np.mean(Yhat_svc_rbf_test == Y_test)\n",
    "    \n",
    "    # Adding testing accuracy to acc_test_svm\n",
    "    acc_test_svm_rbf.append(acc_test)\n",
    "    print('Test Accuracy = {0:f}'.format(acc_test))\n",
    "    prec , recal , fscore,_ = precision_recall_fscore_support(Y_test, Yhat_svc_rbf_test, average = 'weighted')\n",
    "    prec_test_svm_rbf.append(prec)\n",
    "    fscore_test_svm_rbf.append(fscore)\n",
    "    print(\"Precision on test data = %f\" % prec)\n",
    "    print(\"Recal on test data = %f\" % recal)\n",
    "    print(\"fscore on test data = %f\" % fscore)\n",
    "    # Appending value of c for graphing purposes\n",
    "    c_svm_rbf.append(c)\n",
    "    "
   ]
  },
  {
   "cell_type": "code",
   "execution_count": null,
   "metadata": {},
   "outputs": [],
   "source": [
    "for c in c_values:\n",
    "    svm_rbf(c,x_train,y_train, x_test, y_test)"
   ]
  },
  {
   "cell_type": "code",
   "execution_count": null,
   "metadata": {},
   "outputs": [],
   "source": [
    "plt.plot(c_svm_rbf, prec_test_svm_rbf, 'ro-') \n",
    "plt.plot(c_svm_rbf, acc_test_svm_rbf,'bo-') \n",
    "plt.plot(c_svm_rbf, fscore_test_svm_rbf,'yo-') \n",
    "plt.grid()\n",
    "# Use the following function to have a legend\n",
    "plt.legend(['Test Precision', 'Test Accuracy', 'Fscore'], loc='lower right')"
   ]
  },
  {
   "cell_type": "markdown",
   "metadata": {},
   "source": [
    "## 5.3 Using Polynomial Kernel"
   ]
  },
  {
   "cell_type": "code",
   "execution_count": null,
   "metadata": {},
   "outputs": [],
   "source": [
    "acc_train_svm_poly = []\n",
    "acc_test_svm_poly = []\n",
    "c_svm_poly = []\n",
    "prec_test_svm_poly = []\n",
    "fscore_test_svm_poly = []"
   ]
  },
  {
   "cell_type": "code",
   "execution_count": null,
   "metadata": {},
   "outputs": [],
   "source": [
    "def svm_polynomial(c,X_train,Y_train, X_test, Y_test):\n",
    "    # TODO - Create an object of svm.SVC(probability = False, kernel = 'poly', C = c) - 5 points\n",
    "    svc_polynomial = svm.SVC(probability = False, kernel = 'poly', C = c)\n",
    "\n",
    "    \n",
    "    # TODO - Fit the classifier on the training set - 5 points\n",
    "    # Use A and B to train and C and D to test.\n",
    "    svc_polynomial.fit(X_train, Y_train)\n",
    "    # TODO - Find the prediction and accuracy on the training set - 5 points\n",
    "    Yhat_svc_polynomial_train = svc_polynomial.predict(X_test)\n",
    "    acc_train = np.mean(Yhat_svc_polynomial_train == Y_train)\n",
    "    \n",
    "    # Adding testing accuracy to acc_train_svm\n",
    "    acc_train_svm_poly.append(acc_train)\n",
    "    print('Train Accuracy = {0:f}'.format(acc_train))\n",
    "    \n",
    "    # TODO - Find the prediction and accuracy on the test set - 5 points\n",
    "    Yhat_svc_polynomial_test = svc_polynomial.predict(X_test)\n",
    "    acc_test = np.mean(Yhat_svc_polynomial_test == Y_test)\n",
    "    \n",
    "    # Adding testing accuracy to acc_test_svm\n",
    "    acc_test_svm_poly.append(acc_test)\n",
    "    print('Test Accuracy = {0:f}'.format(acc_test))\n",
    "    prec , recal , fscore,_ = precision_recall_fscore_support(Y_test, Yhat_svc_polynomial_test, average = 'weighted')\n",
    "    prec_test_svm_poly.append(prec)\n",
    "    fscore_test_svm_poly.append(fscore)\n",
    "    print(\"Precision on test data = %f\" % prec)\n",
    "    print(\"Recal on test data = %f\" % recal)\n",
    "    print(\"fscore on test data = %f\" % fscore)\n",
    "    \n",
    "    # Appending value of c for graphing purposes\n",
    "    c_svm_poly.append(c)"
   ]
  },
  {
   "cell_type": "code",
   "execution_count": null,
   "metadata": {},
   "outputs": [],
   "source": [
    "for c in c_values:\n",
    "    svm_polynomial(c,x_train,y_train, x_test, y_test)"
   ]
  },
  {
   "cell_type": "code",
   "execution_count": null,
   "metadata": {},
   "outputs": [],
   "source": [
    "plt.plot(c_svm_poly,prec_test_svm_poly, 'ro-') \n",
    "plt.plot(c_svm_poly,acc_test_svm_poly,'bo-')\n",
    "plt.plot(c_svm_poly,fscore_test_svm_poly,'yo-') \n",
    "plt.grid()\n",
    "# Use the following function to have a legend\n",
    "plt.legend(['Test Precision', 'Test Accuracy','Fscore'], loc='lower right')\n"
   ]
  },
  {
   "cell_type": "markdown",
   "metadata": {},
   "source": [
    "# 6. Neural Networks\n",
    "In the following section, we will run our data set through various neural networks with different hyper parameters. We will vary the activation function (tanh, reLU, sigmoid), the number of inputs in the hidden layer (10, 100, 200), and the number of hidden layers (1, 2, 5, with 100 nodes in each hidden layer). Weights and biases will be initialized randomly.  "
   ]
  },
  {
   "cell_type": "code",
   "execution_count": null,
   "metadata": {},
   "outputs": [],
   "source": [
    "class Metrics(Callback):\n",
    "    def on_train_begin(self, logs={}):\n",
    "     self.val_f1s = []\n",
    "     self.val_recalls = []\n",
    "     self.val_precisions = []\n",
    " \n",
    "    def on_epoch_end(self, epoch, logs={}):\n",
    "     val_predict = (np.asarray(self.model.predict(self.validation_data[0])).round())\n",
    "     val_targ = self.validation_data[1]\n",
    "     _val_f1 = f1_score(val_targ, val_predict)\n",
    "     _val_recall = recall_score(val_targ, val_predict)\n",
    "     _val_precision = precision_score(val_targ, val_predict)\n",
    "    \n",
    "     self.val_f1s.append(_val_f1)\n",
    "     self.val_recalls.append(_val_recall)\n",
    "     self.val_precisions.append(_val_precision)\n",
    "        \n",
    "     print (\" — val_f1: %f — val_precision: %f — val_recall %f\" % \n",
    "            (_val_f1, _val_precision, _val_recall))\n",
    "     return\n",
    "\n",
    "metrics = Metrics()\n",
    "\n",
    "\n",
    "# Build and compile our network with user given parameters\n",
    "def neural_network(nin, nh, nout, nhl, act):\n",
    "    model = Sequential();\n",
    "    for x in range(0,nhl):\n",
    "        model.add(Dense(nh, input_shape=(nin,), activation=act, name=\"hidden\"+str(x)))\n",
    "    model.add(Dense(nout, activation=\"sigmoid\", name=\"output\"))  \n",
    "    # Compile model\n",
    "    opt = optimizers.Adam(lr=0.001) \n",
    "    model.compile(optimizer=opt, \n",
    "             loss=\"binary_crossentropy\",\n",
    "             metrics=[\"accuracy\"])  \n",
    "    return model\n",
    "\n",
    "# Train and validate our network on training and test data\n",
    "def train_network(model, x_train, y_train, x_test, y_test):\n",
    "    history = model.fit(x_train, y_train, epochs=10, batch_size=100, \n",
    "                validation_data=(x_test, y_test), callbacks=[metrics], verbose=1)\n",
    "    return history\n",
    "\n",
    "# Plot network accuracy\n",
    "def plot_acc(history, title):\n",
    "    plt.plot(history.history['acc'])\n",
    "    plt.plot(history.history['val_acc'])\n",
    "    plt.title(title)\n",
    "    plt.ylabel('Accuracy')\n",
    "    plt.xlabel('Epoch')\n",
    "    plt.legend(['acc', 'val_acc'], loc='lower right')\n",
    "    plt.show()\n",
    "\n",
    "# Plot network loss\n",
    "def plot_loss(history, title):\n",
    "    plt.plot(history.history['loss'])\n",
    "    plt.plot(history.history['val_loss'])\n",
    "    plt.title(title)\n",
    "    plt.ylabel('Loss')\n",
    "    plt.xlabel('Epoch')\n",
    "    plt.legend(['acc', 'val_acc'], loc='upper right')\n",
    "    plt.show()\n",
    "    \n"
   ]
  },
  {
   "cell_type": "markdown",
   "metadata": {},
   "source": [
    "# 6.1 Network 8-100-1, Sigmoid"
   ]
  },
  {
   "cell_type": "code",
   "execution_count": null,
   "metadata": {},
   "outputs": [],
   "source": [
    "K.clear_session()\n",
    "\n",
    "modelArr = []\n",
    "historyArr = []\n",
    "modelNameArr = []\n",
    "# Number of nodes in input layer = number of features = 8\n",
    "nin = x_train.shape[1];\n",
    "# Number of hidden layer nodes\n",
    "nh = 100;\n",
    "# Number of output nodes\n",
    "nout = 1;\n",
    "\n",
    "\n",
    "model_sig = neural_network(nin, nh, nout, 1, \"sigmoid\")\n",
    "sig_history = train_network(model_sig, x_train, y_train, x_test, y_test);\n",
    "model_sig.summary()\n",
    "plot_acc(sig_history, \"Sigmoid Accuracy\")\n",
    "plot_loss(sig_history, \"Sigmoid Loss\")\n",
    "\n",
    "modelArr.append(model_sig)\n",
    "historyArr.append(sig_history)\n",
    "modelNameArr.append(\"model_sig\")\n",
    "\n",
    "score, acc = model_sig.evaluate(x_test, y_test, verbose = 0)\n",
    "print(\"Validation Accuracy = %f\" % acc)\n"
   ]
  },
  {
   "cell_type": "markdown",
   "metadata": {},
   "source": [
    "## 6.2 Network 8-100-1, ReLU"
   ]
  },
  {
   "cell_type": "code",
   "execution_count": null,
   "metadata": {},
   "outputs": [],
   "source": [
    "nh = 100;\n",
    "    \n",
    "model_relu = neural_network(nin, nh, nout, 1, \"relu\")\n",
    "model_relu.summary()\n",
    "relu_history = train_network(model_relu, x_train, y_train, x_test, y_test);\n",
    "plot_acc(relu_history, \"ReLu Accuracy\")\n",
    "plot_loss(relu_history, \"ReLU Loss\")\n",
    "\n",
    "modelArr.append(model_relu)\n",
    "historyArr.append(relu_history)\n",
    "modelNameArr.append(\"model_relu\")\n",
    "\n",
    "score, acc = model_relu.evaluate(x_test, y_test, verbose = 0)\n",
    "print(\"Accuracy = %f\" % acc)"
   ]
  },
  {
   "cell_type": "markdown",
   "metadata": {},
   "source": [
    "## 6.3 Network 8-100-1, tanh"
   ]
  },
  {
   "cell_type": "code",
   "execution_count": null,
   "metadata": {},
   "outputs": [],
   "source": [
    "nh = 100;\n",
    "    \n",
    "model_tanh = neural_network(nin, nh, nout, 1, \"relu\")\n",
    "model_tanh.summary()\n",
    "tanh_history = train_network(model_tanh, x_train, y_train, x_test, y_test);\n",
    "plot_acc(tanh_history, \"Tanh Accuracy\")\n",
    "plot_loss(tanh_history, \"Tanh Loss\")\n",
    "\n",
    "modelArr.append(model_tanh)\n",
    "historyArr.append(tanh_history)\n",
    "modelNameArr.append(\"model_tanh\")\n",
    "\n",
    "score, acc = model_tanh.evaluate(x_test, y_test, verbose = 0)\n",
    "print(\"Accuracy = %f\" % acc)"
   ]
  },
  {
   "cell_type": "markdown",
   "metadata": {},
   "source": [
    "## 6.4 Network 8-10-1, sigmoid"
   ]
  },
  {
   "cell_type": "code",
   "execution_count": null,
   "metadata": {},
   "outputs": [],
   "source": [
    "# We are changing the number of hidden units here\n",
    "nh = 10;\n",
    "    \n",
    "model_ten = neural_network(nin, nh, nout, 1, \"sigmoid\")\n",
    "model_ten.summary()\n",
    "ten_history = train_network(model_ten, x_train, y_train, x_test, y_test);\n",
    "plot_acc(ten_history, \"10 Hidden Unit Accuracy\")\n",
    "plot_loss(ten_history, \"10 Hidden Unit Loss\")\n",
    "\n",
    "modelArr.append(model_ten)\n",
    "historyArr.append(ten_history)\n",
    "modelNameArr.append(\"model_ten\")\n",
    "\n",
    "score, acc = model_ten.evaluate(x_test, y_test, verbose = 0)\n",
    "print(\"Accuracy = %f\" % acc)"
   ]
  },
  {
   "cell_type": "markdown",
   "metadata": {},
   "source": [
    "## 6.5 Network 8-200-1, sigmoid"
   ]
  },
  {
   "cell_type": "code",
   "execution_count": null,
   "metadata": {},
   "outputs": [],
   "source": [
    "nh = 200;\n",
    "    \n",
    "model_twohund = neural_network(nin, nh, nout, 1, \"sigmoid\")\n",
    "model_twohund.summary()\n",
    "twohund_history = train_network(model_twohund, x_train, y_train, x_test, y_test);\n",
    "plot_acc(twohund_history, \"200 Hidden Unit Accuracy\")\n",
    "plot_loss(twohund_history, \"200 Hidden Unit Loss\")\n",
    "\n",
    "modelArr.append(model_twohund)\n",
    "historyArr.append(twohund_history)\n",
    "modelNameArr.append(\"model_twohund\")\n",
    "\n",
    "score, acc = model_twohund.evaluate(x_test, y_test, verbose = 0)\n",
    "print(\"Accuracy = %f\" % acc)"
   ]
  },
  {
   "cell_type": "markdown",
   "metadata": {},
   "source": [
    "## 6.6 Network 8-100-100-1 sigmoid"
   ]
  },
  {
   "cell_type": "code",
   "execution_count": null,
   "metadata": {},
   "outputs": [],
   "source": [
    "nh = 100;\n",
    "num_layers = 2;\n",
    "    \n",
    "model_twolayer = neural_network(nin, nh, nout, num_layers, \"sigmoid\")\n",
    "model_twolayer.summary()\n",
    "twolayer_history = train_network(model_twolayer, x_train, y_train, x_test, y_test);\n",
    "plot_acc(twolayer_history, \"2 Hidden Layer (100) Accuracy\")\n",
    "plot_loss(twolayer_history, \"2 Hidden Layer (100) Loss\")\n",
    "\n",
    "modelArr.append(model_twolayer)\n",
    "historyArr.append(twolayer_history)\n",
    "modelNameArr.append(\"model_twolayer\")\n",
    "\n",
    "score, acc = model_twolayer.evaluate(x_test, y_test, verbose = 0)\n",
    "print(\"Accuracy = %f\" % acc)"
   ]
  },
  {
   "cell_type": "markdown",
   "metadata": {},
   "source": [
    "## 6.7 Network 8-100-100-100-100-100-1, sigmoid"
   ]
  },
  {
   "cell_type": "code",
   "execution_count": null,
   "metadata": {},
   "outputs": [],
   "source": [
    "nh = 100;\n",
    "num_layers = 5;\n",
    "    \n",
    "model_fivelayer = neural_network(nin, nh, nout, num_layers, \"sigmoid\")\n",
    "model_fivelayer.summary()\n",
    "fivelayer_history = train_network(model_fivelayer, x_train, y_train, x_test, y_test);\n",
    "plot_acc(fivelayer_history, \"5 Hidden Layer (100) Accuracy\")\n",
    "plot_loss(fivelayer_history, \"5 Hidden Layer (100) Loss\")\n",
    "\n",
    "modelArr.append(model_fivelayer)\n",
    "historyArr.append(fivelayer_history)\n",
    "modelNameArr.append(\"model_fivelayer\")\n",
    "\n",
    "score, acc = model_fivelayer.evaluate(x_test, y_test, verbose = 0)\n",
    "print(\"Accuracy = %f\" % acc)"
   ]
  },
  {
   "cell_type": "markdown",
   "metadata": {},
   "source": [
    "## Accuracy Graphs of All Models"
   ]
  },
  {
   "cell_type": "code",
   "execution_count": null,
   "metadata": {},
   "outputs": [],
   "source": [
    "fig=plt.figure(figsize=(18, 16), dpi= 80, facecolor='w', edgecolor='k')\n",
    "fig.tight_layout()\n",
    "\n",
    "for index, history in enumerate(historyArr):\n",
    "    plt.subplot(3,3,index+1)\n",
    "    plt.plot(history.history['acc'])\n",
    "    plt.plot(history.history['val_acc'])\n",
    "    plt.title(modelNameArr[index] + \" Accuracy\")\n",
    "    plt.ylabel('Accuracy')\n",
    "    plt.xlabel('Epoch')\n",
    "    plt.legend(['acc', 'val_acc'], loc='lower right')\n",
    "\n",
    "plt.show()"
   ]
  },
  {
   "cell_type": "markdown",
   "metadata": {},
   "source": [
    "## Loss Graphs of All Models"
   ]
  },
  {
   "cell_type": "code",
   "execution_count": null,
   "metadata": {},
   "outputs": [],
   "source": [
    "fig=plt.figure(figsize=(18, 16), dpi= 80, facecolor='w', edgecolor='k')\n",
    "fig.tight_layout()\n",
    "\n",
    "for index, history in enumerate(historyArr):\n",
    "    plt.subplot(3,3,index+1)\n",
    "    plt.plot(history.history['loss'])\n",
    "    plt.plot(history.history['val_loss'])\n",
    "    plt.title(modelNameArr[index] + \" Loss\")\n",
    "    plt.ylabel('Loss')\n",
    "    plt.xlabel('Epoch')\n",
    "    plt.legend(['loss', 'val_loss'], loc='upper right')\n",
    "\n",
    "plt.show()"
   ]
  },
  {
   "cell_type": "markdown",
   "metadata": {},
   "source": [
    "## Final Accuracies of all models after 10 Epochs"
   ]
  },
  {
   "cell_type": "code",
   "execution_count": null,
   "metadata": {},
   "outputs": [],
   "source": [
    "for index, model in enumerate(modelArr):\n",
    "    score, acc = model.evaluate(x_test, y_test, verbose = 0)\n",
    "    print(modelNameArr[index] + \" Validation Accuracy = \" + \"{:.3%}\".format(acc))\n",
    "\n",
    "print('\\n')\n",
    "\n",
    "for index, history in enumerate(historyArr):\n",
    "    \n",
    "    print(modelNameArr[index] + \" Train Accuracy = \" + \n",
    "          \"{:.3%}\".format(history.history[\"acc\"][9]))"
   ]
  },
  {
   "cell_type": "code",
   "execution_count": null,
   "metadata": {},
   "outputs": [],
   "source": []
  }
 ],
 "metadata": {
  "kernelspec": {
   "display_name": "Python 3",
   "language": "python",
   "name": "python3"
  },
  "language_info": {
   "codemirror_mode": {
    "name": "ipython",
    "version": 3
   },
   "file_extension": ".py",
   "mimetype": "text/x-python",
   "name": "python",
   "nbconvert_exporter": "python",
   "pygments_lexer": "ipython3",
   "version": "3.7.1"
  }
 },
 "nbformat": 4,
 "nbformat_minor": 2
}
